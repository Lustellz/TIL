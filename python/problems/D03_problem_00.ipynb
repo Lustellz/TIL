{
 "cells": [
  {
   "cell_type": "markdown",
   "metadata": {},
   "source": [
    "# `abs()`\n",
    "\n",
    "> 절대값은 숫자(int, float)가 들어오면 절대값을 반환하고, 복소수(complex)가 들어오면 그 크기를 반환합니다.\n",
    "> \n",
    "> `my_abs(x)`를 만들어보세요."
   ]
  },
  {
   "cell_type": "markdown",
   "metadata": {},
   "source": [
    "**공식문서**\n",
    "<center>\n",
    "    <img src=\"./images/P01/abs0.png\", alt=\"\">\n",
    "</center>"
   ]
  },
  {
   "cell_type": "markdown",
   "metadata": {},
   "source": [
    "**복소수 크기 구하는법**\n",
    "<center>\n",
    "    <img src=\"./images/P01/abs.png\", alt=\"\">\n",
    "</center>"
   ]
  },
  {
   "cell_type": "code",
   "execution_count": null,
   "metadata": {
    "scrolled": true
   },
   "outputs": [],
   "source": [
    "# 예제 입력 및 출력\n",
    "print(abs(3+4j), abs(-0.0), abs(-5))"
   ]
  },
  {
   "cell_type": "code",
   "execution_count": null,
   "metadata": {},
   "outputs": [],
   "source": [
    "# 아래에 코드를 작성해주세요.\n",
    "\n",
    "def my_abs(*args):\n",
    "    num=args[0]\n",
    "    if num==-0.0 or 0.0:\n",
    "        num=0.0\n",
    "    elif num==-0 or 0:\n",
    "        num=0    \n",
    "    elif type(num)==type(3+4j):\n",
    "        num=((num.real)**2+(num.imag)**2)**0.5\n",
    "    elif type(num)==type(3):\n",
    "        num=-num\n",
    "    return num"
   ]
  },
  {
   "cell_type": "code",
   "execution_count": null,
   "metadata": {},
   "outputs": [],
   "source": [
    "def my_abs_(x):\n",
    "    #1. x가 정수, 실수인지 복소수인지\n",
    "    if type(x)==complex:\n",
    "        return (x.real**2+x.imag**2)**0.5\n",
    "    else:\n",
    "        if x<0:\n",
    "            return -x\n",
    "        elif x==0:\n",
    "            return x**2\n",
    "        else:\n",
    "            return x"
   ]
  },
  {
   "cell_type": "code",
   "execution_count": null,
   "metadata": {},
   "outputs": [],
   "source": [
    "# 결과 확인\n",
    "print(my_abs(3+4j), my_abs(-0.0), my_abs(-5))\n",
    "print(my_abs_(3+4j), my_abs_(-0.0), my_abs_(-5))"
   ]
  },
  {
   "cell_type": "markdown",
   "metadata": {},
   "source": [
    "# `all(x)`\n",
    "\n",
    "> all은 인자로 받는 iterable(range, list)의 모든 요소가 참이거나 비어있으면 True를 반환합니다.\n",
    ">\n",
    "> 이와 같은 `my_all(x)`을 작성해보세요"
   ]
  },
  {
   "cell_type": "code",
   "execution_count": null,
   "metadata": {},
   "outputs": [],
   "source": [
    "# 예제 입력 및 출력\n",
    "print(all([1, 2, 5, '6']))\n",
    "print(all([]))\n",
    "print(all([[], 2, 5, '6']))"
   ]
  },
  {
   "cell_type": "code",
   "execution_count": null,
   "metadata": {},
   "outputs": [],
   "source": [
    "# 아래에 코드를 작성해주세요.\n",
    "def my_all(args):\n",
    "    result=True\n",
    "    for n in args:\n",
    "        if bool(n)== False:\n",
    "            result=False\n",
    "        else:\n",
    "            continue\n",
    "    return result"
   ]
  },
  {
   "cell_type": "code",
   "execution_count": null,
   "metadata": {},
   "outputs": [],
   "source": [
    "def my_all_(x):\n",
    "    #1. x(iterable)을 하나씩 돌면서 값 확인\n",
    "    for item in x:\n",
    "        #2. 만약 값이 False에 해당하는 값이라면\n",
    "        #if bool(item)==False:\n",
    "        #item: []=>False\n",
    "        #item: 1=>True\n",
    "        if not item: #=>True\n",
    "            return False\n",
    "        #else:\n",
    "        #    continue #pass\n",
    "    return True        "
   ]
  },
  {
   "cell_type": "code",
   "execution_count": null,
   "metadata": {
    "scrolled": true
   },
   "outputs": [],
   "source": [
    "# 결과 확인\n",
    "print(my_all([1, 2, 5, '6']))\n",
    "print(my_all([]))\n",
    "print(my_all([[], 2, 5, '6']))\n",
    "\n",
    "print(my_all_([1, 2, 5, '6']))\n",
    "print(my_all_([]))\n",
    "print(my_all_([[], 2, 5, '6']))"
   ]
  },
  {
   "cell_type": "markdown",
   "metadata": {},
   "source": [
    "# `any(x)`\n",
    "\n",
    "> any는 인자로 받는 iterable(range, list)의 요소 중 하나라도 참이면 True를 반환하고, 비어있으면 False를 반환합니다.\n",
    ">\n",
    "> 이와 같은 `my_any(x)`를 작성해보세요."
   ]
  },
  {
   "cell_type": "code",
   "execution_count": null,
   "metadata": {},
   "outputs": [],
   "source": [
    "# 예제 입력 및 출력\n",
    "print(any([1, 2, 5, '6']))\n",
    "print(any([[], 2, 5, '6']))\n",
    "print(any([0]))"
   ]
  },
  {
   "cell_type": "code",
   "execution_count": null,
   "metadata": {},
   "outputs": [],
   "source": [
    "# 아래에 코드를 작성해주세요.\n",
    "def my_any(args):\n",
    "    result=False\n",
    "    for n in args:\n",
    "        if bool(n)== True:\n",
    "            result=True\n",
    "        else:\n",
    "            continue\n",
    "    return result"
   ]
  },
  {
   "cell_type": "code",
   "execution_count": null,
   "metadata": {},
   "outputs": [],
   "source": [
    "def my_any_(x):\n",
    "    #1. x(iterable)을 하나씩 돌면서 값 확인\n",
    "    for item in x:\n",
    "        #2. 만약 값이 True에 해당하는 값이라면\n",
    "        #if bool(item)==True:\n",
    "        #item: 1=>True\n",
    "        if item: #=>True\n",
    "            return True\n",
    "        \n",
    "    return False"
   ]
  },
  {
   "cell_type": "code",
   "execution_count": null,
   "metadata": {},
   "outputs": [],
   "source": [
    "# 결과 확인\n",
    "print(my_any([1, 2, 5, '6']))\n",
    "print(my_any([[], 2, 5, '6']))\n",
    "print(my_any([0]))\n",
    "print(my_any_([1, 2, 5, '6']))\n",
    "print(my_any_([[], 2, 5, '6']))\n",
    "print(my_any_([0]))"
   ]
  },
  {
   "cell_type": "markdown",
   "metadata": {},
   "source": [
    "# `bin(integer)`\n",
    "\n",
    "> `양의 정수`를 받아서 앞에 '0b'를 붙어 있는 2진수로 표현됩니다.\n",
    ">\n",
    "> 이와 같은 `my_bin(x)`를 작성해보세요.\n",
    "\n",
    "* 음수는 고려하지 않아도 됩니다."
   ]
  },
  {
   "cell_type": "markdown",
   "metadata": {},
   "source": [
    "<center>\n",
    "    <img src=\"./images/P01/bin.png\", alt=\"bin\">\n",
    "</center>"
   ]
  },
  {
   "cell_type": "code",
   "execution_count": null,
   "metadata": {},
   "outputs": [],
   "source": [
    "# bin 예제 입력 및 출력\n",
    "print(bin(4096), bin(5))\n",
    "#재귀함수 활용"
   ]
  },
  {
   "cell_type": "code",
   "execution_count": 6,
   "metadata": {},
   "outputs": [],
   "source": [
    "# 아래에 코드를 작성해주세요.\n",
    "def my_bin(args):\n",
    "    if args==1:\n",
    "        return '1'\n",
    "    binary=''\n",
    "    while True:\n",
    "        if args%2==0:\n",
    "            binary+='0'\n",
    "        else:\n",
    "            binary+='1'\n",
    "        args=args//2\n",
    "        \n",
    "        if args==0:\n",
    "\n",
    "            return '0b'+binary[::-1]"
   ]
  },
  {
   "cell_type": "code",
   "execution_count": 14,
   "metadata": {},
   "outputs": [
    {
     "name": "stdout",
     "output_type": "stream",
     "text": [
      "0b101\n",
      "0b101\n"
     ]
    }
   ],
   "source": [
    "def loop_my_bin(x):\n",
    "    result = ''\n",
    "    while x>0:\n",
    "        q, r=x//2, x%2\n",
    "        result=str(r)+result\n",
    "        x=q\n",
    "    return '0b'+result\n",
    "\n",
    "print(loop_my_bin(5))\n",
    "\n",
    "def rec_my_bin(x):\n",
    "    q=x//2\n",
    "    r=x%2\n",
    "    if q==0:\n",
    "        return '0b'+str(r)\n",
    "    else:\n",
    "        return rec_my_bin(q)+str(r)\n",
    "    \n",
    "    #시작 x = 13\n",
    "    #x = 1, x = 3, x= 6, x = 13\n",
    "    '#0b'+str(r)+str(r)+str(r)+str(r)\n",
    "\n",
    "print(rec_my_bin(5))"
   ]
  },
  {
   "cell_type": "code",
   "execution_count": 12,
   "metadata": {},
   "outputs": [
    {
     "name": "stdout",
     "output_type": "stream",
     "text": [
      "True\n",
      "True\n"
     ]
    }
   ],
   "source": [
    "# my_bin 예제 입력 및 출력\n",
    "print(my_bin(4096) == bin(4096))\n",
    "print(my_bin(5) == bin(5))"
   ]
  },
  {
   "cell_type": "code",
   "execution_count": null,
   "metadata": {},
   "outputs": [],
   "source": []
  }
 ],
 "metadata": {
  "kernelspec": {
   "display_name": "Python 3",
   "language": "python",
   "name": "python3"
  },
  "language_info": {
   "codemirror_mode": {
    "name": "ipython",
    "version": 3
   },
   "file_extension": ".py",
   "mimetype": "text/x-python",
   "name": "python",
   "nbconvert_exporter": "python",
   "pygments_lexer": "ipython3",
   "version": "3.7.1"
  },
  "toc": {
   "base_numbering": 1,
   "nav_menu": {},
   "number_sections": true,
   "sideBar": true,
   "skip_h1_title": false,
   "title_cell": "Table of Contents",
   "title_sidebar": "Contents",
   "toc_cell": false,
   "toc_position": {},
   "toc_section_display": true,
   "toc_window_display": false
  }
 },
 "nbformat": 4,
 "nbformat_minor": 2
}
