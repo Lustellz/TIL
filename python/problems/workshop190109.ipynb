{
 "cells": [
  {
   "cell_type": "code",
   "execution_count": 1,
   "metadata": {},
   "outputs": [],
   "source": [
    "def root(n):\n",
    "    x=1\n",
    "    a=1\n",
    "    b=n\n",
    "    while abs(x**2-n)>0.0000001:\n",
    "        x=(a+b)/2\n",
    "        if x**2<n:\n",
    "            a=x\n",
    "        else:\n",
    "            b=x\n",
    "    return x"
   ]
  },
  {
   "cell_type": "code",
   "execution_count": null,
   "metadata": {},
   "outputs": [],
   "source": [
    "def root_(n):\n",
    "    x,y=1,n\n",
    "    result=1\n",
    "    \n",
    "    while abs(result**2-n)>0.0001:\n",
    "        result=(x+y)/2\n",
    "        if result**2<n:\n",
    "            x=result\n",
    "        else:\n",
    "            y=result\n",
    "    return result"
   ]
  },
  {
   "cell_type": "code",
   "execution_count": 7,
   "metadata": {},
   "outputs": [],
   "source": [
    "def my_sqrt(n):\n",
    "    x,y=1,n\n",
    "    result=1\n",
    "    \n",
    "    import math\n",
    "    while not math.isclose(result**2,n):\n",
    "        result=(x+y)/2\n",
    "        if result**2<n:\n",
    "            x=result\n",
    "        else:\n",
    "            y=result\n",
    "    return result"
   ]
  },
  {
   "cell_type": "code",
   "execution_count": 11,
   "metadata": {},
   "outputs": [
    {
     "data": {
      "text/plain": [
       "10.000000003143214"
      ]
     },
     "execution_count": 11,
     "metadata": {},
     "output_type": "execute_result"
    }
   ],
   "source": [
    "root(2)\n",
    "my_sqrt(100)"
   ]
  },
  {
   "cell_type": "code",
   "execution_count": null,
   "metadata": {},
   "outputs": [],
   "source": []
  }
 ],
 "metadata": {
  "kernelspec": {
   "display_name": "Python 3",
   "language": "python",
   "name": "python3"
  },
  "language_info": {
   "codemirror_mode": {
    "name": "ipython",
    "version": 3
   },
   "file_extension": ".py",
   "mimetype": "text/x-python",
   "name": "python",
   "nbconvert_exporter": "python",
   "pygments_lexer": "ipython3",
   "version": "3.7.1"
  }
 },
 "nbformat": 4,
 "nbformat_minor": 2
}
