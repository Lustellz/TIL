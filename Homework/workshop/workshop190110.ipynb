{
 "cells": [
  {
   "cell_type": "code",
   "execution_count": 3,
   "metadata": {},
   "outputs": [],
   "source": [
    "class Circle():\n",
    "    pi=3.14\n",
    "    x=0\n",
    "    y=0\n",
    "    r=0\n",
    "    \n",
    "    def area(self):\n",
    "        return self.pi*self.r*self.r\n",
    "    \n",
    "    def circumference(self):\n",
    "        return 2*self.pi*self.r\n",
    "    \n",
    "    def center(self):\n",
    "        return (self.x, self.y)\n",
    "    \n",
    "    def move(self, x, y):\n",
    "        self.x=x\n",
    "        self.y=y"
   ]
  },
  {
   "cell_type": "code",
   "execution_count": 20,
   "metadata": {},
   "outputs": [
    {
     "name": "stdout",
     "output_type": "stream",
     "text": [
      "28.259999999999998 18.84\n"
     ]
    }
   ],
   "source": [
    "circle=Circle()\n",
    "circle.x, circle.y, circle.r=2,4,3\n",
    "print(circle.area(),circle.circumference())"
   ]
  },
  {
   "cell_type": "code",
   "execution_count": null,
   "metadata": {},
   "outputs": [],
   "source": []
  }
 ],
 "metadata": {
  "kernelspec": {
   "display_name": "Python 3",
   "language": "python",
   "name": "python3"
  },
  "language_info": {
   "codemirror_mode": {
    "name": "ipython",
    "version": 3
   },
   "file_extension": ".py",
   "mimetype": "text/x-python",
   "name": "python",
   "nbconvert_exporter": "python",
   "pygments_lexer": "ipython3",
   "version": "3.7.1"
  }
 },
 "nbformat": 4,
 "nbformat_minor": 2
}
