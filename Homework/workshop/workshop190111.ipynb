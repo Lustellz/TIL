{
 "cells": [
  {
   "cell_type": "code",
   "execution_count": null,
   "metadata": {},
   "outputs": [],
   "source": [
    "from flask import Flask\n",
    "app = Flask(__name__)\n",
    "\n",
    "@app.route(\"/\")\n",
    "def hello():\n",
    "    return \"Hello World!\"\n",
    "\n",
    "@app.route('/python')\n",
    "def python():\n",
    "    return 'Pytone is fun!'\n",
    "\n",
    "@app.route('/dictionary/<string:word>')\n",
    "def dictionary(word):\n",
    "    dictionary = {\n",
    "        'apple':'사과',\n",
    "        'banana': '바나나',\n",
    "        'pear' : '배',\n",
    "        'watermelon':'수박'\n",
    "    }\n",
    "    result=dictionary.get(word,f'나만의 단어장에 없는 단어입니다')\n",
    "    return f'{word}은(는) {result}!'\n"
   ]
  }
 ],
 "metadata": {
  "kernelspec": {
   "display_name": "Python 3",
   "language": "python",
   "name": "python3"
  },
  "language_info": {
   "codemirror_mode": {
    "name": "ipython",
    "version": 3
   },
   "file_extension": ".py",
   "mimetype": "text/x-python",
   "name": "python",
   "nbconvert_exporter": "python",
   "pygments_lexer": "ipython3",
   "version": "3.7.1"
  }
 },
 "nbformat": 4,
 "nbformat_minor": 2
}
